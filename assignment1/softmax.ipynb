{
 "cells": [
  {
   "cell_type": "markdown",
   "metadata": {},
   "source": [
    "# Softmax exercise\n",
    "\n",
    "*Complete and hand in this completed worksheet (including its outputs and any supporting code outside of the worksheet) with your assignment submission. For more details see the [assignments page](http://vision.stanford.edu/teaching/cs231n/assignments.html) on the course website.*\n",
    "\n",
    "This exercise is analogous to the SVM exercise. You will:\n",
    "\n",
    "- implement a fully-vectorized **loss function** for the Softmax classifier\n",
    "- implement the fully-vectorized expression for its **analytic gradient**\n",
    "- **check your implementation** with numerical gradient\n",
    "- use a validation set to **tune the learning rate and regularization** strength\n",
    "- **optimize** the loss function with **SGD**\n",
    "- **visualize** the final learned weights\n"
   ]
  },
  {
   "cell_type": "code",
   "execution_count": 16,
   "metadata": {
    "collapsed": false
   },
   "outputs": [
    {
     "name": "stdout",
     "output_type": "stream",
     "text": [
      "The autoreload extension is already loaded. To reload it, use:\n",
      "  %reload_ext autoreload\n"
     ]
    }
   ],
   "source": [
    "import random\n",
    "import numpy as np\n",
    "from cs231n.data_utils import load_CIFAR10\n",
    "import matplotlib.pyplot as plt\n",
    "\n",
    "from __future__ import print_function\n",
    "\n",
    "%matplotlib inline\n",
    "plt.rcParams['figure.figsize'] = (10.0, 8.0) # set default size of plots\n",
    "plt.rcParams['image.interpolation'] = 'nearest'\n",
    "plt.rcParams['image.cmap'] = 'gray'\n",
    "\n",
    "# for auto-reloading extenrnal modules\n",
    "# see http://stackoverflow.com/questions/1907993/autoreload-of-modules-in-ipython\n",
    "%load_ext autoreload\n",
    "%autoreload 2"
   ]
  },
  {
   "cell_type": "code",
   "execution_count": 17,
   "metadata": {
    "collapsed": false
   },
   "outputs": [
    {
     "name": "stdout",
     "output_type": "stream",
     "text": [
      "Train data shape:  (49000, 3073)\n",
      "Train labels shape:  (49000,)\n",
      "Validation data shape:  (1000, 3073)\n",
      "Validation labels shape:  (1000,)\n",
      "Test data shape:  (1000, 3073)\n",
      "Test labels shape:  (1000,)\n",
      "dev data shape:  (500, 3073)\n",
      "dev labels shape:  (500,)\n"
     ]
    }
   ],
   "source": [
    "def get_CIFAR10_data(num_training=49000, num_validation=1000, num_test=1000, num_dev=500):\n",
    "    \"\"\"\n",
    "    Load the CIFAR-10 dataset from disk and perform preprocessing to prepare\n",
    "    it for the linear classifier. These are the same steps as we used for the\n",
    "    SVM, but condensed to a single function.  \n",
    "    \"\"\"\n",
    "    # Load the raw CIFAR-10 data\n",
    "    cifar10_dir = 'cs231n/datasets/cifar-10-batches-py'\n",
    "    X_train, y_train, X_test, y_test = load_CIFAR10(cifar10_dir)\n",
    "    \n",
    "    # subsample the data\n",
    "    mask = list(range(num_training, num_training + num_validation))\n",
    "    X_val = X_train[mask]\n",
    "    y_val = y_train[mask]\n",
    "    mask = list(range(num_training))\n",
    "    X_train = X_train[mask]\n",
    "    y_train = y_train[mask]\n",
    "    mask = list(range(num_test))\n",
    "    X_test = X_test[mask]\n",
    "    y_test = y_test[mask]\n",
    "    mask = np.random.choice(num_training, num_dev, replace=False)\n",
    "    X_dev = X_train[mask]\n",
    "    y_dev = y_train[mask]\n",
    "    \n",
    "    # Preprocessing: reshape the image data into rows\n",
    "    X_train = np.reshape(X_train, (X_train.shape[0], -1))\n",
    "    X_val = np.reshape(X_val, (X_val.shape[0], -1))\n",
    "    X_test = np.reshape(X_test, (X_test.shape[0], -1))\n",
    "    X_dev = np.reshape(X_dev, (X_dev.shape[0], -1))\n",
    "    \n",
    "    # Normalize the data: subtract the mean image\n",
    "    mean_image = np.mean(X_train, axis = 0)\n",
    "    X_train -= mean_image\n",
    "    X_val -= mean_image\n",
    "    X_test -= mean_image\n",
    "    X_dev -= mean_image\n",
    "    \n",
    "    # add bias dimension and transform into columns\n",
    "    X_train = np.hstack([X_train, np.ones((X_train.shape[0], 1))])\n",
    "    X_val = np.hstack([X_val, np.ones((X_val.shape[0], 1))])\n",
    "    X_test = np.hstack([X_test, np.ones((X_test.shape[0], 1))])\n",
    "    X_dev = np.hstack([X_dev, np.ones((X_dev.shape[0], 1))])\n",
    "    \n",
    "    return X_train, y_train, X_val, y_val, X_test, y_test, X_dev, y_dev\n",
    "\n",
    "\n",
    "# Invoke the above function to get our data.\n",
    "X_train, y_train, X_val, y_val, X_test, y_test, X_dev, y_dev = get_CIFAR10_data()\n",
    "print('Train data shape: ', X_train.shape)\n",
    "print('Train labels shape: ', y_train.shape)\n",
    "print('Validation data shape: ', X_val.shape)\n",
    "print('Validation labels shape: ', y_val.shape)\n",
    "print('Test data shape: ', X_test.shape)\n",
    "print('Test labels shape: ', y_test.shape)\n",
    "print('dev data shape: ', X_dev.shape)\n",
    "print('dev labels shape: ', y_dev.shape)"
   ]
  },
  {
   "cell_type": "markdown",
   "metadata": {},
   "source": [
    "## Softmax Classifier\n",
    "\n",
    "Your code for this section will all be written inside **cs231n/classifiers/softmax.py**. \n"
   ]
  },
  {
   "cell_type": "code",
   "execution_count": 18,
   "metadata": {
    "collapsed": false
   },
   "outputs": [
    {
     "name": "stdout",
     "output_type": "stream",
     "text": [
      "loss: 2.353280\n",
      "sanity check: 2.302585\n"
     ]
    }
   ],
   "source": [
    "# First implement the naive softmax loss function with nested loops.\n",
    "# Open the file cs231n/classifiers/softmax.py and implement the\n",
    "# softmax_loss_naive function.\n",
    "\n",
    "from cs231n.classifiers.softmax import softmax_loss_naive\n",
    "import time\n",
    "\n",
    "# Generate a random softmax weight matrix and use it to compute the loss.\n",
    "W = np.random.randn(3073, 10) * 0.0001\n",
    "loss, grad = softmax_loss_naive(W, X_dev, y_dev, 0.0)\n",
    "# As a rough sanity check, our loss should be something close to -log(0.1).\n",
    "print('loss: %f' % loss)\n",
    "print('sanity check: %f' % (-np.log(0.1)))"
   ]
  },
  {
   "cell_type": "markdown",
   "metadata": {},
   "source": [
    "## Inline Question 1:\n",
    "Why do we expect our loss to be close to -log(0.1)? Explain briefly.**\n",
    "\n",
    "**Your answer:** *Because the weights are random initialized. The probability of each class should be approximately same. So we expect our loss to be close to -log(0.1)*\n"
   ]
  },
  {
   "cell_type": "code",
   "execution_count": 19,
   "metadata": {
    "collapsed": false
   },
   "outputs": [
    {
     "name": "stdout",
     "output_type": "stream",
     "text": [
      "numerical: -1.842119 analytic: -1.842119, relative error: 1.386060e-08\n",
      "numerical: -2.155168 analytic: -2.155168, relative error: 1.629402e-08\n",
      "numerical: 2.272520 analytic: 2.272520, relative error: 6.217188e-09\n",
      "numerical: 1.735254 analytic: 1.735254, relative error: 4.122537e-08\n",
      "numerical: -0.339159 analytic: -0.339159, relative error: 9.408873e-08\n",
      "numerical: 3.181990 analytic: 3.181989, relative error: 1.595613e-08\n",
      "numerical: 0.950502 analytic: 0.950502, relative error: 1.880060e-08\n",
      "numerical: 0.072857 analytic: 0.072857, relative error: 5.090997e-07\n",
      "numerical: 0.422491 analytic: 0.422491, relative error: 1.168309e-07\n",
      "numerical: 1.015928 analytic: 1.015928, relative error: 5.892524e-08\n",
      "numerical: 0.207623 analytic: 0.207623, relative error: 2.022560e-07\n",
      "numerical: -2.294308 analytic: -2.294308, relative error: 1.467436e-08\n",
      "numerical: 0.295896 analytic: 0.295896, relative error: 1.798404e-07\n",
      "numerical: 2.489846 analytic: 2.489846, relative error: 1.798334e-08\n",
      "numerical: -5.716842 analytic: -5.716842, relative error: 3.315219e-09\n",
      "numerical: 1.869410 analytic: 1.869410, relative error: 2.905122e-08\n",
      "numerical: 0.631220 analytic: 0.631220, relative error: 5.803556e-09\n",
      "numerical: 0.215408 analytic: 0.215408, relative error: 2.003300e-08\n",
      "numerical: -0.746684 analytic: -0.746684, relative error: 4.009948e-08\n",
      "numerical: 2.162417 analytic: 2.162417, relative error: 3.291852e-08\n"
     ]
    }
   ],
   "source": [
    "# Complete the implementation of softmax_loss_naive and implement a (naive)\n",
    "# version of the gradient that uses nested loops.\n",
    "loss, grad = softmax_loss_naive(W, X_dev, y_dev, 0.0)\n",
    "\n",
    "# As we did for the SVM, use numeric gradient checking as a debugging tool.\n",
    "# The numeric gradient should be close to the analytic gradient.\n",
    "from cs231n.gradient_check import grad_check_sparse\n",
    "f = lambda w: softmax_loss_naive(w, X_dev, y_dev, 0.0)[0]\n",
    "grad_numerical = grad_check_sparse(f, W, grad, 10)\n",
    "\n",
    "# similar to SVM case, do another gradient check with regularization\n",
    "loss, grad = softmax_loss_naive(W, X_dev, y_dev, 5e1)\n",
    "f = lambda w: softmax_loss_naive(w, X_dev, y_dev, 5e1)[0]\n",
    "grad_numerical = grad_check_sparse(f, W, grad, 10)"
   ]
  },
  {
   "cell_type": "code",
   "execution_count": 36,
   "metadata": {
    "collapsed": false
   },
   "outputs": [
    {
     "name": "stdout",
     "output_type": "stream",
     "text": [
      "[[ 0.14389082  0.14668457  0.06213222  0.09169568  0.08040413  0.12512773\n",
      "   0.05788216  0.0890564   0.08829319  0.11483309]\n",
      " [ 0.15751678  0.10521821  0.06288353  0.07792132  0.07549365  0.13835073\n",
      "   0.06004944  0.10496477  0.10278965  0.11481191]\n",
      " [ 0.05148     0.07216349  0.13951885  0.11701107  0.09276701  0.07819557\n",
      "   0.1792038   0.05827645  0.10862264  0.10276111]]\n",
      "naive loss: 2.393236e+00 computed in 0.044869s\n",
      "[[ 0.14389082  0.14668457  0.06213222  0.09169568  0.08040413  0.12512773\n",
      "   0.05788216  0.0890564   0.08829319  0.11483309]\n",
      " [ 0.15751678  0.10521821  0.06288353  0.07792132  0.07549365  0.13835073\n",
      "   0.06004944  0.10496477  0.10278965  0.11481191]\n",
      " [ 0.05148     0.07216349  0.13951885  0.11701107  0.09276701  0.07819557\n",
      "   0.1792038   0.05827645  0.10862264  0.10276111]]\n",
      "vectorized loss: 2.393236e+00 computed in 0.009057s\n",
      "Loss difference: 0.000000\n",
      "Gradient difference: 0.000000\n"
     ]
    }
   ],
   "source": [
    "# Now that we have a naive implementation of the softmax loss function and its gradient,\n",
    "# implement a vectorized version in softmax_loss_vectorized.\n",
    "# The two versions should compute the same results, but the vectorized version should be\n",
    "# much faster.\n",
    "tic = time.time()\n",
    "loss_naive, grad_naive = softmax_loss_naive(W, X_dev, y_dev, 0.000005)\n",
    "toc = time.time()\n",
    "print('naive loss: %e computed in %fs' % (loss_naive, toc - tic))\n",
    "\n",
    "from cs231n.classifiers.softmax import softmax_loss_vectorized\n",
    "tic = time.time()\n",
    "loss_vectorized, grad_vectorized = softmax_loss_vectorized(W, X_dev, y_dev, 0.000005)\n",
    "toc = time.time()\n",
    "print('vectorized loss: %e computed in %fs' % (loss_vectorized, toc - tic))\n",
    "\n",
    "# As we did for the SVM, we use the Frobenius norm to compare the two versions\n",
    "# of the gradient.\n",
    "grad_difference = np.linalg.norm(grad_naive - grad_vectorized, ord='fro')\n",
    "print('Loss difference: %f' % np.abs(loss_naive - loss_vectorized))\n",
    "print('Gradient difference: %f' % grad_difference)"
   ]
  },
  {
   "cell_type": "code",
   "execution_count": 38,
   "metadata": {
    "collapsed": false
   },
   "outputs": [
    {
     "name": "stdout",
     "output_type": "stream",
     "text": [
      "iteration 0 / 1500: loss 20.237588\n",
      "iteration 100 / 1500: loss 15.298048\n",
      "iteration 200 / 1500: loss 12.426072\n",
      "iteration 300 / 1500: loss 10.273904\n",
      "iteration 400 / 1500: loss 8.942208\n",
      "iteration 500 / 1500: loss 7.390752\n",
      "iteration 600 / 1500: loss 6.412001\n",
      "iteration 700 / 1500: loss 5.510413\n",
      "iteration 800 / 1500: loss 4.911905\n",
      "iteration 900 / 1500: loss 4.374362\n",
      "iteration 1000 / 1500: loss 3.777114\n",
      "iteration 1100 / 1500: loss 3.423307\n",
      "iteration 1200 / 1500: loss 3.133165\n",
      "iteration 1300 / 1500: loss 2.963353\n",
      "iteration 1400 / 1500: loss 2.756702\n",
      "iteration 0 / 1500: loss 50.644905\n",
      "iteration 100 / 1500: loss 26.919529\n",
      "iteration 200 / 1500: loss 15.340737\n",
      "iteration 300 / 1500: loss 9.232369\n",
      "iteration 400 / 1500: loss 5.746970\n",
      "iteration 500 / 1500: loss 4.012497\n",
      "iteration 600 / 1500: loss 3.059960\n",
      "iteration 700 / 1500: loss 2.547695\n",
      "iteration 800 / 1500: loss 2.254649\n",
      "iteration 900 / 1500: loss 2.044636\n",
      "iteration 1000 / 1500: loss 2.029101\n",
      "iteration 1100 / 1500: loss 1.869228\n",
      "iteration 1200 / 1500: loss 1.872983\n",
      "iteration 1300 / 1500: loss 1.780208\n",
      "iteration 1400 / 1500: loss 1.870581\n",
      "iteration 0 / 1500: loss 23.673646\n",
      "iteration 100 / 1500: loss 10.365086\n",
      "iteration 200 / 1500: loss 6.358147\n",
      "iteration 300 / 1500: loss 4.282421\n",
      "iteration 400 / 1500: loss 3.169800\n",
      "iteration 500 / 1500: loss 2.533113\n",
      "iteration 600 / 1500: loss 2.153622\n",
      "iteration 700 / 1500: loss 1.915914\n",
      "iteration 800 / 1500: loss 1.937270\n",
      "iteration 900 / 1500: loss 1.937526\n",
      "iteration 1000 / 1500: loss 1.854388\n",
      "iteration 1100 / 1500: loss 1.848087\n",
      "iteration 1200 / 1500: loss 1.919573\n",
      "iteration 1300 / 1500: loss 1.821962\n",
      "iteration 1400 / 1500: loss 1.879576\n",
      "iteration 0 / 1500: loss 51.505645\n",
      "iteration 100 / 1500: loss 9.223675\n",
      "iteration 200 / 1500: loss 2.971521\n",
      "iteration 300 / 1500: loss 2.084283\n",
      "iteration 400 / 1500: loss 1.908150\n",
      "iteration 500 / 1500: loss 1.982819\n",
      "iteration 600 / 1500: loss 1.906495\n",
      "iteration 700 / 1500: loss 1.911488\n",
      "iteration 800 / 1500: loss 1.735587\n",
      "iteration 900 / 1500: loss 1.922950\n",
      "iteration 1000 / 1500: loss 1.876145\n",
      "iteration 1100 / 1500: loss 1.868854\n",
      "iteration 1200 / 1500: loss 1.893367\n",
      "iteration 1300 / 1500: loss 1.878974\n",
      "iteration 1400 / 1500: loss 1.895405\n",
      "lr 1.000000e-06 reg 1.000000e+03 train accuracy: 0.405163 val accuracy: 0.405000\n",
      "lr 1.000000e-06 reg 3.000000e+03 train accuracy: 0.395041 val accuracy: 0.391000\n",
      "lr 3.000000e-06 reg 1.000000e+03 train accuracy: 0.402388 val accuracy: 0.382000\n",
      "lr 3.000000e-06 reg 3.000000e+03 train accuracy: 0.381878 val accuracy: 0.393000\n",
      "best validation accuracy achieved during cross-validation: 0.405000\n"
     ]
    }
   ],
   "source": [
    "# Use the validation set to tune hyperparameters (regularization strength and\n",
    "# learning rate). You should experiment with different ranges for the learning\n",
    "# rates and regularization strengths; if you are careful you should be able to\n",
    "# get a classification accuracy of over 0.35 on the validation set.\n",
    "from cs231n.classifiers import Softmax\n",
    "results = {}\n",
    "best_val = -1\n",
    "best_softmax = None\n",
    "learning_rates = [1e-6,3e-6]\n",
    "regularization_strengths = [1e3,3e3]# 1e4\n",
    "\n",
    "################################################################################\n",
    "# TODO:                                                                        #\n",
    "# Use the validation set to set the learning rate and regularization strength. #\n",
    "# This should be identical to the validation that you did for the SVM; save    #\n",
    "# the best trained softmax classifer in best_softmax.                          #\n",
    "################################################################################\n",
    "results={}\n",
    "num_iters=1500\n",
    "for lr in learning_rates:\n",
    "    for reg in regularization_strengths:\n",
    "        W = np.random.randn(3073, 10) * 0.0001\n",
    "        classifier=Softmax()\n",
    "        classifier.train(X_train, y_train, learning_rate=lr, reg=reg, num_iters=num_iters,verbose=True)\n",
    "        y_train_pred=classifier.predict(X_train)\n",
    "#         print(y_train_pred.shape)\n",
    "        y_val_pred  =classifier.predict(X_val)\n",
    "        accu_train= np.mean(y_train_pred==y_train)\n",
    "        accu_val  = np.mean(y_val_pred==y_val)\n",
    "        results[(lr,reg)] = (accu_train, accu_val)\n",
    "        if accu_val>best_val:\n",
    "            best_val = accu_val\n",
    "            best_softmax=classifier\n",
    "################################################################################\n",
    "#                              END OF YOUR CODE                                #\n",
    "################################################################################\n",
    "    \n",
    "# Print out results.\n",
    "for lr, reg in sorted(results):\n",
    "    train_accuracy, val_accuracy = results[(lr, reg)]\n",
    "    print('lr %e reg %e train accuracy: %f val accuracy: %f' % (\n",
    "                lr, reg, train_accuracy, val_accuracy))\n",
    "    \n",
    "print('best validation accuracy achieved during cross-validation: %f' % best_val)"
   ]
  },
  {
   "cell_type": "code",
   "execution_count": 39,
   "metadata": {
    "collapsed": false
   },
   "outputs": [
    {
     "name": "stdout",
     "output_type": "stream",
     "text": [
      "softmax on raw pixels final test set accuracy: 0.387000\n"
     ]
    }
   ],
   "source": [
    "# evaluate on test set\n",
    "# Evaluate the best softmax on test set\n",
    "y_test_pred = best_softmax.predict(X_test)\n",
    "test_accuracy = np.mean(y_test == y_test_pred)\n",
    "print('softmax on raw pixels final test set accuracy: %f' % (test_accuracy, ))"
   ]
  },
  {
   "cell_type": "code",
   "execution_count": 40,
   "metadata": {
    "collapsed": false
   },
   "outputs": [
    {
     "data": {
      "image/png": "[encoded data removed]",
      "text/plain": [
       "<matplotlib.figure.Figure at 0x7f4e645a7e48>"
      ]
     },
     "metadata": {},
     "output_type": "display_data"
    }
   ],
   "source": [
    "# Visualize the learned weights for each class\n",
    "w = best_softmax.W[:-1,:] # strip out the bias\n",
    "w = w.reshape(32, 32, 3, 10)\n",
    "\n",
    "w_min, w_max = np.min(w), np.max(w)\n",
    "\n",
    "classes = ['plane', 'car', 'bird', 'cat', 'deer', 'dog', 'frog', 'horse', 'ship', 'truck']\n",
    "for i in range(10):\n",
    "    plt.subplot(2, 5, i + 1)\n",
    "    \n",
    "    # Rescale the weights to be between 0 and 255\n",
    "    wimg = 255.0 * (w[:, :, :, i].squeeze() - w_min) / (w_max - w_min)\n",
    "    plt.imshow(wimg.astype('uint8'))\n",
    "    plt.axis('off')\n",
    "    plt.title(classes[i])"
   ]
  }
 ],
 "metadata": {
  "kernelspec": {
   "display_name": "Python 3",
   "language": "python",
   "name": "python3"
  },
  "language_info": {
   "codemirror_mode": {
    "name": "ipython",
    "version": 3
   },
   "file_extension": ".py",
   "mimetype": "text/x-python",
   "name": "python",
   "nbconvert_exporter": "python",
   "pygments_lexer": "ipython3",
   "version": "3.5.2"
  }
 },
 "nbformat": 4,
 "nbformat_minor": 0
}
